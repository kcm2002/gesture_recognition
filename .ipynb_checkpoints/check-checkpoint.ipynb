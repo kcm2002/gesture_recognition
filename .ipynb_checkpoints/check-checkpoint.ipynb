{
 "cells": [
  {
   "cell_type": "code",
   "execution_count": 1,
   "id": "932ac4b8",
   "metadata": {},
   "outputs": [
    {
     "name": "stdout",
     "output_type": "stream",
     "text": [
      "Number of classes: 3\n",
      "Classes: {'2', '0', '1'}\n"
     ]
    }
   ],
   "source": [
    "#checking the number of classes in the data file\n",
    "import csv\n",
    "\n",
    "csv_file_path = 'data.csv'  # Replace with the actual path to your CSV file\n",
    "\n",
    "with open(csv_file_path, 'r') as file:\n",
    "    reader = csv.reader(file)\n",
    "    next(reader)  # Skip the header row if it exists\n",
    "    labels = [row[-1] for row in reader]\n",
    "\n",
    "unique_classes = set(labels)\n",
    "num_classes = len(unique_classes)\n",
    "\n",
    "print(f\"Number of classes: {num_classes}\")\n",
    "print(f\"Classes: {unique_classes}\")"
   ]
  },
  {
   "cell_type": "code",
   "execution_count": null,
   "id": "b04df210",
   "metadata": {},
   "outputs": [],
   "source": []
  },
  {
   "cell_type": "code",
   "execution_count": null,
   "id": "9c25d24d",
   "metadata": {},
   "outputs": [],
   "source": []
  }
 ],
 "metadata": {
  "kernelspec": {
   "display_name": "Python 3 (ipykernel)",
   "language": "python",
   "name": "python3"
  },
  "language_info": {
   "codemirror_mode": {
    "name": "ipython",
    "version": 3
   },
   "file_extension": ".py",
   "mimetype": "text/x-python",
   "name": "python",
   "nbconvert_exporter": "python",
   "pygments_lexer": "ipython3",
   "version": "3.11.5"
  }
 },
 "nbformat": 4,
 "nbformat_minor": 5
}
