{
 "cells": [
  {
   "cell_type": "code",
   "execution_count": 4,
   "id": "750fc0e3",
   "metadata": {},
   "outputs": [
    {
     "name": "stderr",
     "output_type": "stream",
     "text": [
      "I0000 00:00:1704738236.354525       1 gl_context.cc:344] GL version: 2.1 (2.1 Metal - 88), renderer: Apple M2\n"
     ]
    },
    {
     "name": "stdout",
     "output_type": "stream",
     "text": [
      "Data saved to data.csv\n"
     ]
    }
   ],
   "source": [
    "import os\n",
    "import mediapipe as mp\n",
    "import cv2\n",
    "import csv\n",
    "\n",
    "#Import necessary modules from the mediapipe library\n",
    "mp_hands = mp.solutions.hands\n",
    "mp_drawing = mp.solutions.drawing_utils\n",
    "mp_drawing_styles = mp.solutions.drawing_styles\n",
    "\n",
    "#create a hands object with specified configuration\n",
    "hands = mp_hands.Hands(static_image_mode=True, min_detection_confidence=0.3)\n",
    "\n",
    "#Define the directory where the image data is stored\n",
    "DATA_DIR = './data'\n",
    "\n",
    "#Initialize lists to sotre hand landmarks data and corresponding labels\n",
    "data = []\n",
    "labels = []\n",
    "\n",
    "#Loop through each class in the data directory\n",
    "for class_name in os.listdir(DATA_DIR):\n",
    "    class_path = os.path.join(DATA_DIR, class_name)\n",
    "\n",
    "    # Check if it's a directory before processing\n",
    "    if os.path.isdir(class_path):\n",
    "        for img_path in os.listdir(class_path):\n",
    "            data_aux = []\n",
    "            img_file_path = os.path.join(class_path, img_path)\n",
    "\n",
    "            # Check if the file has a valid image extension\n",
    "            if img_file_path.endswith(('.jpg', '.jpeg', '.png')):\n",
    "                img = cv2.imread(img_file_path)\n",
    "\n",
    "                # Check if the image is valid\n",
    "                if img is not None and img.shape[0] > 0 and img.shape[1] > 0:\n",
    "                    img_rgb = cv2.cvtColor(img, cv2.COLOR_BGR2RGB)\n",
    "                    results = hands.process(img_rgb)\n",
    "\n",
    "                    if results.multi_hand_landmarks:\n",
    "                        for hand_landmarks in results.multi_hand_landmarks:\n",
    "                            for i in range(len(hand_landmarks.landmark)):\n",
    "                                x = hand_landmarks.landmark[i].x\n",
    "                                y = hand_landmarks.landmark[i].y\n",
    "                                data_aux.append(x)\n",
    "                                data_aux.append(y)\n",
    "                    #Append hand landmarks data dn corresponding label to lists\n",
    "                    data.append(data_aux)\n",
    "                    labels.append(class_name)\n",
    "\n",
    "# Save data to CSV\n",
    "csv_file_path = 'data.csv'\n",
    "with open(csv_file_path, mode='w', newline='') as file:\n",
    "    writer = csv.writer(file)\n",
    "    # Write header to CSV file\n",
    "    header = [f'landmark_{i}_x' for i in range(21)] + [f'landmark_{i}_y' for i in range(21)] + ['label']\n",
    "    writer.writerow(header)\n",
    "    # Write data to CSB file\n",
    "    for row_data, row_label in zip(data, labels):\n",
    "        writer.writerow(row_data + [row_label])\n",
    "\n",
    "print(f'Data saved to {csv_file_path}')\n"
   ]
  },
  {
   "cell_type": "code",
   "execution_count": null,
   "id": "81ce4827",
   "metadata": {},
   "outputs": [],
   "source": []
  }
 ],
 "metadata": {
  "kernelspec": {
   "display_name": "Python 3 (ipykernel)",
   "language": "python",
   "name": "python3"
  },
  "language_info": {
   "codemirror_mode": {
    "name": "ipython",
    "version": 3
   },
   "file_extension": ".py",
   "mimetype": "text/x-python",
   "name": "python",
   "nbconvert_exporter": "python",
   "pygments_lexer": "ipython3",
   "version": "3.11.5"
  }
 },
 "nbformat": 4,
 "nbformat_minor": 5
}
