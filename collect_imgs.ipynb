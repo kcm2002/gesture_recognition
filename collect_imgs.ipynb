{
 "cells": [
  {
   "cell_type": "code",
   "execution_count": 1,
   "id": "a03789d5",
   "metadata": {},
   "outputs": [
    {
     "name": "stderr",
     "output_type": "stream",
     "text": [
      "WARNING: All log messages before absl::InitializeLog() is called are written to STDERR\n",
      "I0000 00:00:1704736921.069789       1 gl_context.cc:344] GL version: 2.1 (2.1 Metal - 88), renderer: Apple M2\n",
      "INFO: Created TensorFlow Lite XNNPACK delegate for CPU.\n"
     ]
    },
    {
     "name": "stdout",
     "output_type": "stream",
     "text": [
      "Collecting data for class 0\n",
      "Collecting data for class 1\n",
      "Collecting data for class 2\n"
     ]
    }
   ],
   "source": [
    "import os\n",
    "import cv2\n",
    "import mediapipe as mp\n",
    "\n",
    "# Set up directory for data collection\n",
    "DATA_DIR = './data'\n",
    "if not os.path.exists(DATA_DIR):\n",
    "    os.makedirs(DATA_DIR)\n",
    "\n",
    "# Define the number of classes and dataset size\n",
    "number_of_classes = 3\n",
    "dataset_size = 100\n",
    "\n",
    "# Set up the Hand module from mediapipe\n",
    "mp_hands = mp.solutions.hands\n",
    "hands = mp_hands.Hands()\n",
    "\n",
    "# Open a video camera\n",
    "cap = cv2.VideoCapture(0)\n",
    "\n",
    "# Loop through each class for data collection\n",
    "for j in range(number_of_classes):\n",
    "#Create a directory for the current class\n",
    "    if not os.path.exists(os.path.join(DATA_DIR, str(j))):\n",
    "        os.makedirs(os.path.join(DATA_DIR, str(j)))\n",
    "\n",
    "    print('Collecting data for class {}'.format(j))\n",
    "\n",
    "# Loop to capture images until 'Space' or 'S' key is pressed\n",
    "    done = False\n",
    "    while True:\n",
    "        ret, frame = cap.read()\n",
    "\n",
    "        # Detect hand landmarks\n",
    "        frame_rgb = cv2.cvtColor(frame, cv2.COLOR_BGR2RGB)\n",
    "        results = hands.process(frame_rgb)\n",
    "\n",
    "        if results.multi_hand_landmarks:\n",
    "            for landmarks in results.multi_hand_landmarks:\n",
    "                # Draw hand landmarks on the frame\n",
    "                for point in landmarks.landmark:\n",
    "                    height, width, _ = frame.shape\n",
    "                    cx, cy = int(point.x * width), int(point.y * height)\n",
    "                    cv2.circle(frame, (cx, cy), 5, (0, 255, 0), cv2.FILLED)\n",
    "        # Display instructions on the frame\n",
    "        cv2.putText(frame, 'Ready? Press \"SPACE\" to capture an image or \"S\" to switch class!', (50, 50),\n",
    "                    cv2.FONT_HERSHEY_SIMPLEX, 0.7, (0, 255, 0), 2, cv2.LINE_AA)\n",
    "        cv2.imshow('frame', frame)\n",
    "\n",
    "        key = cv2.waitKey(1) & 0xFF\n",
    "        if key == ord(' '):  # Press SPACE to capture an image\n",
    "            break\n",
    "        elif key == ord('s'):  # Press 'S' to switch class\n",
    "            break\n",
    "# Loop to capture images for the current class until 'Space' or 'S' key is pressed\n",
    "    counter = 0\n",
    "    while counter < dataset_size:\n",
    "        ret, frame = cap.read()\n",
    "\n",
    "        # Detect hand landmarks\n",
    "        frame_rgb = cv2.cvtColor(frame, cv2.COLOR_BGR2RGB)\n",
    "        results = hands.process(frame_rgb)\n",
    "\n",
    "        if results.multi_hand_landmarks:\n",
    "            for landmarks in results.multi_hand_landmarks:\n",
    "                # Draw hand landmarks on the frame\n",
    "                for point in landmarks.landmark:\n",
    "                    height, width, _ = frame.shape\n",
    "                    cx, cy = int(point.x * width), int(point.y * height)\n",
    "                    cv2.circle(frame, (cx, cy), 5, (0, 255, 0), cv2.FILLED)\n",
    "\n",
    "        cv2.imshow('frame', frame)\n",
    "\n",
    "        key = cv2.waitKey(1) & 0xFF\n",
    "        if key == ord(' '):  # Press SPACE to capture an image\n",
    "            cv2.imwrite(os.path.join(DATA_DIR, str(j), '{}.jpg'.format(counter)), frame)\n",
    "            counter += 1\n",
    "        elif key == ord('s'):  # Press 'S' to switch class\n",
    "            break  # Break out of the current class loop and move to the next class\n",
    "\n",
    "cap.release()\n",
    "cv2.destroyAllWindows()\n"
   ]
  },
  {
   "cell_type": "code",
   "execution_count": null,
   "id": "88fc45c0",
   "metadata": {},
   "outputs": [],
   "source": []
  }
 ],
 "metadata": {
  "kernelspec": {
   "display_name": "Python 3 (ipykernel)",
   "language": "python",
   "name": "python3"
  },
  "language_info": {
   "codemirror_mode": {
    "name": "ipython",
    "version": 3
   },
   "file_extension": ".py",
   "mimetype": "text/x-python",
   "name": "python",
   "nbconvert_exporter": "python",
   "pygments_lexer": "ipython3",
   "version": "3.11.5"
  }
 },
 "nbformat": 4,
 "nbformat_minor": 5
}
