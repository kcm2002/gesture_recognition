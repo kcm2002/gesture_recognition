{
 "cells": [
  {
   "cell_type": "code",
   "execution_count": 10,
   "id": "3e9f1a82",
   "metadata": {},
   "outputs": [
    {
     "name": "stdout",
     "output_type": "stream",
     "text": [
      "x_train shape: (237, 42)   x_train dtype: float64\n",
      "y_train shape: (237,)   y_train dtype: int64\n",
      "98.33333333333333% of samples were classified correctly!\n"
     ]
    }
   ],
   "source": [
    "import pandas as pd\n",
    "import numpy as np\n",
    "from sklearn.ensemble import RandomForestClassifier\n",
    "from sklearn.model_selection import train_test_split\n",
    "from sklearn.metrics import accuracy_score\n",
    "from sklearn.preprocessing import LabelEncoder\n",
    "\n",
    "# Load data from CSV\n",
    "csv_file_path = 'data.csv'\n",
    "df = pd.read_csv(csv_file_path)\n",
    "\n",
    "# Drop rows with NaN values\n",
    "df = df.dropna()\n",
    "\n",
    "# Extract data and labels\n",
    "data = df.iloc[:, :-1].values  # Features (all columns except the last one)\n",
    "labels = df.iloc[:, -1].values  # Labels (last column)\n",
    "\n",
    "# Convert labels to numeric values\n",
    "label_encoder = LabelEncoder()\n",
    "labels_numeric = label_encoder.fit_transform(labels)\n",
    "\n",
    "# Split data\n",
    "x_train, x_test, y_train, y_test = train_test_split(data, labels_numeric, test_size=0.2, shuffle=True, stratify=labels_numeric)\n",
    "\n",
    "# Debugging: Print shapes and data types\n",
    "print(\"x_train shape:\", x_train.shape, \"  x_train dtype:\", x_train.dtype)\n",
    "print(\"y_train shape:\", y_train.shape, \"  y_train dtype:\", y_train.dtype)\n",
    "\n",
    "# Initialize and train the model\n",
    "model = RandomForestClassifier()\n",
    "model.fit(x_train, y_train)\n",
    "\n",
    "# Make predictions\n",
    "y_predict = model.predict(x_test)\n",
    "\n",
    "# Evaluate the model\n",
    "score = accuracy_score(y_predict, y_test)\n",
    "print('{}% of samples were classified correctly!'.format(score * 100))\n",
    "\n",
    "# Save the trained model\n",
    "with open('model.p', 'wb') as f:\n",
    "    pickle.dump({'model': model, 'label_encoder': label_encoder, 'labels': labels}, f)\n"
   ]
  },
  {
   "cell_type": "code",
   "execution_count": null,
   "id": "25f66dd2",
   "metadata": {},
   "outputs": [],
   "source": []
  }
 ],
 "metadata": {
  "kernelspec": {
   "display_name": "Python 3 (ipykernel)",
   "language": "python",
   "name": "python3"
  },
  "language_info": {
   "codemirror_mode": {
    "name": "ipython",
    "version": 3
   },
   "file_extension": ".py",
   "mimetype": "text/x-python",
   "name": "python",
   "nbconvert_exporter": "python",
   "pygments_lexer": "ipython3",
   "version": "3.11.5"
  }
 },
 "nbformat": 4,
 "nbformat_minor": 5
}
